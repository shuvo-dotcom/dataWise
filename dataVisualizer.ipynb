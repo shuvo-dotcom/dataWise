{
 "cells": [
  {
   "cell_type": "code",
   "execution_count": 3,
   "metadata": {},
   "outputs": [
    {
     "name": "stdout",
     "output_type": "stream",
     "text": [
      "       country     location_name  latitude  longitude        timezone  \\\n",
      "0  Afghanistan             Kabul     34.52      69.18      Asia/Kabul   \n",
      "1      Albania            Tirana     41.33      19.82   Europe/Tirane   \n",
      "2      Algeria           Algiers     36.76       3.05  Africa/Algiers   \n",
      "3      Andorra  Andorra La Vella     42.50       1.52  Europe/Andorra   \n",
      "4       Angola            Luanda     -8.84      13.23   Africa/Luanda   \n",
      "\n",
      "   last_updated_epoch      last_updated  temperature_celsius  \\\n",
      "0          1715849100  2024-05-16 13:15                 26.6   \n",
      "1          1715849100  2024-05-16 10:45                 19.0   \n",
      "2          1715849100  2024-05-16 09:45                 23.0   \n",
      "3          1715849100  2024-05-16 10:45                  6.3   \n",
      "4          1715849100  2024-05-16 09:45                 26.0   \n",
      "\n",
      "   temperature_fahrenheit condition_text  ...  air_quality_PM2.5  \\\n",
      "0                    79.8  Partly Cloudy  ...                8.4   \n",
      "1                    66.2  Partly cloudy  ...                1.1   \n",
      "2                    73.4          Sunny  ...               10.4   \n",
      "3                    43.3  Light drizzle  ...                0.7   \n",
      "4                    78.8  Partly cloudy  ...              183.4   \n",
      "\n",
      "   air_quality_PM10  air_quality_us-epa-index air_quality_gb-defra-index  \\\n",
      "0              26.6                         1                          1   \n",
      "1               2.0                         1                          1   \n",
      "2              18.4                         1                          1   \n",
      "3               0.9                         1                          1   \n",
      "4             262.3                         5                         10   \n",
      "\n",
      "    sunrise    sunset  moonrise   moonset      moon_phase  moon_illumination  \n",
      "0  04:50 AM  06:50 PM  12:12 PM  01:11 AM  Waxing Gibbous                 55  \n",
      "1  05:21 AM  07:54 PM  12:58 PM  02:14 AM  Waxing Gibbous                 55  \n",
      "2  05:40 AM  07:50 PM  01:15 PM  02:14 AM  Waxing Gibbous                 55  \n",
      "3  06:31 AM  09:11 PM  02:12 PM  03:31 AM  Waxing Gibbous                 55  \n",
      "4  06:12 AM  05:55 PM  01:17 PM  12:38 AM  Waxing Gibbous                 55  \n",
      "\n",
      "[5 rows x 41 columns]\n"
     ]
    }
   ],
   "source": [
    "import pandas as pd\n",
    "weather_df = pd.read_csv('GlobalWeatherRepository.csv')\n",
    "print(weather_df.head())"
   ]
  },
  {
   "cell_type": "code",
   "execution_count": 4,
   "metadata": {},
   "outputs": [
    {
     "name": "stdout",
     "output_type": "stream",
     "text": [
      "Missing Values:\n",
      " country                         0\n",
      "location_name                   0\n",
      "latitude                        0\n",
      "longitude                       0\n",
      "timezone                        0\n",
      "last_updated_epoch              0\n",
      "last_updated                    0\n",
      "temperature_celsius             0\n",
      "temperature_fahrenheit          0\n",
      "condition_text                  0\n",
      "wind_mph                        0\n",
      "wind_kph                        0\n",
      "wind_degree                     0\n",
      "wind_direction                  0\n",
      "pressure_mb                     0\n",
      "pressure_in                     0\n",
      "precip_mm                       0\n",
      "precip_in                       0\n",
      "humidity                        0\n",
      "cloud                           0\n",
      "feels_like_celsius              0\n",
      "feels_like_fahrenheit           0\n",
      "visibility_km                   0\n",
      "visibility_miles                0\n",
      "uv_index                        0\n",
      "gust_mph                        0\n",
      "gust_kph                        0\n",
      "air_quality_Carbon_Monoxide     0\n",
      "air_quality_Ozone               0\n",
      "air_quality_Nitrogen_dioxide    0\n",
      "air_quality_Sulphur_dioxide     0\n",
      "air_quality_PM2.5               0\n",
      "air_quality_PM10                0\n",
      "air_quality_us-epa-index        0\n",
      "air_quality_gb-defra-index      0\n",
      "sunrise                         0\n",
      "sunset                          0\n",
      "moonrise                        0\n",
      "moonset                         0\n",
      "moon_phase                      0\n",
      "moon_illumination               0\n",
      "dtype: int64\n"
     ]
    }
   ],
   "source": [
    "# Check for missing values\n",
    "missing_data = weather_df.isnull().sum()\n",
    "print(\"Missing Values:\\n\", missing_data)"
   ]
  },
  {
   "cell_type": "code",
   "execution_count": 5,
   "metadata": {},
   "outputs": [
    {
     "name": "stdout",
     "output_type": "stream",
     "text": [
      "           latitude     longitude  last_updated_epoch  temperature_celsius  \\\n",
      "count  29316.000000  29316.000000        2.931600e+04         29316.000000   \n",
      "mean      19.132743     21.966014        1.722362e+09            25.839613   \n",
      "std       24.486608     65.851780        3.839086e+06             7.137021   \n",
      "min      -41.300000   -175.200000        1.715849e+09            -8.400000   \n",
      "25%        3.750000     -6.840000        1.718978e+09            22.200000   \n",
      "50%       17.250000     23.320000        1.722428e+09            26.800000   \n",
      "75%       40.400000     49.882200        1.725710e+09            30.000000   \n",
      "max       64.150000    179.220000        1.728898e+09            49.200000   \n",
      "\n",
      "       temperature_fahrenheit      wind_mph      wind_kph   wind_degree  \\\n",
      "count            29316.000000  29316.000000  29316.000000  29316.000000   \n",
      "mean                78.512925      8.588805     13.826412    176.558159   \n",
      "std                 12.846736     11.959401     19.247084    100.294151   \n",
      "min                 16.900000      2.200000      3.600000      1.000000   \n",
      "25%                 72.000000      4.300000      6.800000     93.000000   \n",
      "50%                 80.200000      7.800000     12.600000    174.000000   \n",
      "75%                 86.000000     11.900000     19.100000    260.000000   \n",
      "max                120.600000   1841.200000   2963.200000    360.000000   \n",
      "\n",
      "        pressure_mb   pressure_in  ...      gust_kph  \\\n",
      "count  29316.000000  29316.000000  ...  29316.000000   \n",
      "mean    1012.343396     29.893796  ...     20.396074   \n",
      "std        6.179028      0.182100  ...     20.572484   \n",
      "min      978.000000     28.880000  ...      3.600000   \n",
      "25%     1009.000000     29.800000  ...     11.600000   \n",
      "50%     1013.000000     29.900000  ...     18.400000   \n",
      "75%     1016.000000     30.000000  ...     26.400000   \n",
      "max     1045.000000     30.860000  ...   2970.400000   \n",
      "\n",
      "       air_quality_Carbon_Monoxide  air_quality_Ozone  \\\n",
      "count                 29316.000000       29316.000000   \n",
      "mean                    459.535015          65.225409   \n",
      "std                    1082.142493          43.040587   \n",
      "min                   -9999.000000           0.000000   \n",
      "25%                     203.600000          34.000000   \n",
      "50%                     260.400000          60.100000   \n",
      "75%                     395.900000          90.800000   \n",
      "max                   38879.398000         480.700000   \n",
      "\n",
      "       air_quality_Nitrogen_dioxide  air_quality_Sulphur_dioxide  \\\n",
      "count                  29316.000000                 29316.000000   \n",
      "mean                       9.810371                     7.121812   \n",
      "std                       22.327086                    60.991604   \n",
      "min                        0.000000                 -9999.000000   \n",
      "25%                        0.600000                     0.500000   \n",
      "50%                        2.000000                     1.500000   \n",
      "75%                        7.400000                     5.200000   \n",
      "max                      427.700000                   255.855000   \n",
      "\n",
      "       air_quality_PM2.5  air_quality_PM10  air_quality_us-epa-index  \\\n",
      "count       29316.000000      29316.000000              29316.000000   \n",
      "mean           17.691494         33.277187                  1.429629   \n",
      "std            48.875364         77.279082                  0.816841   \n",
      "min             0.500000          0.500000                  1.000000   \n",
      "25%             2.775000          5.000000                  1.000000   \n",
      "50%             7.585000         12.900000                  1.000000   \n",
      "75%            17.945000         31.820000                  2.000000   \n",
      "max          1614.100000       1814.400000                  6.000000   \n",
      "\n",
      "       air_quality_gb-defra-index  moon_illumination  \n",
      "count                29316.000000       29316.000000  \n",
      "mean                     1.950505          48.232399  \n",
      "std                      1.977989          34.575553  \n",
      "min                      1.000000           0.000000  \n",
      "25%                      1.000000          13.000000  \n",
      "50%                      1.000000          48.000000  \n",
      "75%                      2.000000          82.000000  \n",
      "max                     10.000000         100.000000  \n",
      "\n",
      "[8 rows x 30 columns]\n"
     ]
    }
   ],
   "source": [
    "# Statistical summary of the data\n",
    "summary_stats = weather_df.describe()\n",
    "print(summary_stats)"
   ]
  },
  {
   "cell_type": "code",
   "execution_count": 6,
   "metadata": {},
   "outputs": [
    {
     "name": "stdout",
     "output_type": "stream",
     "text": [
      "country                          object\n",
      "location_name                    object\n",
      "latitude                        float64\n",
      "longitude                       float64\n",
      "timezone                         object\n",
      "last_updated_epoch                int64\n",
      "last_updated                     object\n",
      "temperature_celsius             float64\n",
      "temperature_fahrenheit          float64\n",
      "condition_text                   object\n",
      "wind_mph                        float64\n",
      "wind_kph                        float64\n",
      "wind_degree                       int64\n",
      "wind_direction                   object\n",
      "pressure_mb                     float64\n",
      "pressure_in                     float64\n",
      "precip_mm                       float64\n",
      "precip_in                       float64\n",
      "humidity                          int64\n",
      "cloud                             int64\n",
      "feels_like_celsius              float64\n",
      "feels_like_fahrenheit           float64\n",
      "visibility_km                   float64\n",
      "visibility_miles                float64\n",
      "uv_index                        float64\n",
      "gust_mph                        float64\n",
      "gust_kph                        float64\n",
      "air_quality_Carbon_Monoxide     float64\n",
      "air_quality_Ozone               float64\n",
      "air_quality_Nitrogen_dioxide    float64\n",
      "air_quality_Sulphur_dioxide     float64\n",
      "air_quality_PM2.5               float64\n",
      "air_quality_PM10                float64\n",
      "air_quality_us-epa-index          int64\n",
      "air_quality_gb-defra-index        int64\n",
      "sunrise                          object\n",
      "sunset                           object\n",
      "moonrise                         object\n",
      "moonset                          object\n",
      "moon_phase                       object\n",
      "moon_illumination                 int64\n",
      "dtype: object\n"
     ]
    }
   ],
   "source": [
    "# Check data types\n",
    "print(weather_df.dtypes)"
   ]
  },
  {
   "cell_type": "code",
   "execution_count": 11,
   "metadata": {},
   "outputs": [
    {
     "data": {
      "image/png": "[encoded data removed]",
      "text/plain": [
       "<Figure size 1000x600 with 1 Axes>"
      ]
     },
     "metadata": {},
     "output_type": "display_data"
    }
   ],
   "source": [
    "import matplotlib.pyplot as plt\n",
    "import seaborn as sns\n",
    "\n",
    "# Histogram for temperature\n",
    "plt.figure(figsize=(10, 6))\n",
    "sns.histplot(weather_df['temperature_celsius'], bins=30, kde=True)\n",
    "plt.title('Temperature Distribution')\n",
    "plt.show()\n"
   ]
  },
  {
   "cell_type": "code",
   "execution_count": null,
   "metadata": {},
   "outputs": [],
   "source": []
  }
 ],
 "metadata": {
  "kernelspec": {
   "display_name": "dataAnalyticsEnv",
   "language": "python",
   "name": "python3"
  },
  "language_info": {
   "codemirror_mode": {
    "name": "ipython",
    "version": 3
   },
   "file_extension": ".py",
   "mimetype": "text/x-python",
   "name": "python",
   "nbconvert_exporter": "python",
   "pygments_lexer": "ipython3",
   "version": "3.11.7"
  }
 },
 "nbformat": 4,
 "nbformat_minor": 2
}
